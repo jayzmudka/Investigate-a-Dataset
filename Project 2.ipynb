{
 "cells": [
  {
   "cell_type": "markdown",
   "metadata": {},
   "source": [
    "\n",
    "\n",
    "# Project: Investigation a data set - IMDB Movie data set\n",
    "\n",
    "## Table of Contents\n",
    "<ul>\n",
    "<li><a href=\"#intro\">Introduction</a></li>\n",
    "<li><a href=\"#wrangling\">Data Wrangling</a></li>\n",
    "<li><a href=\"#eda\">Exploratory Data Analysis</a></li>\n",
    "<li><a href=\"#conclusions\">Conclusions</a></li>\n",
    "</ul>"
   ]
  },
  {
   "cell_type": "markdown",
   "metadata": {},
   "source": [
    "<a id='intro'></a>\n",
    "## Introduction\n",
    "\n",
    "I chose to analyze the IMDB Movie data set. The data contains information about movies made between 1960 and 2015. It includes the title, cast members, director, production studio, keywords, genres, runtime, release date, budget, and revenue. I was most interested in the adjusted revenue column and what factors would give me the highest revenue for a movie. I will study the following independent variables:\n",
    "\n",
    "<ul>\n",
    "    <li> Budget </li>\n",
    "    <li> Month of release </li>\n",
    "    <li> Director </li>\n",
    "    <li> Cast members </li>\n",
    "</ul>\n",
    "\n",
    "I will try to answer the following questions:\n",
    "\n",
    ">1: What factors affect the revenue of a movie?\n",
    "\n",
    ">2: How can we use this information to possibly make a more profitable movie?\n",
    "\n",
    "I will be using python 2.7, with numpy, pandas, and matplotlib\n"
   ]
  },
  {
   "cell_type": "code",
   "execution_count": 3,
   "metadata": {},
   "outputs": [],
   "source": [
    "# import python libraries\n",
    "\n",
    "import numpy as np\n",
    "import pandas as pd\n",
    "import matplotlib.pyplot as plt\n",
    "\n"
   ]
  },
  {
   "cell_type": "markdown",
   "metadata": {},
   "source": [
    "<a id='wrangling'></a>\n",
    "## Data Wrangling\n",
    "\n",
    "\n",
    "\n",
    "### General Properties\n",
    "\n",
    "> The source data is in a csv file. There are 21 columns in 10866 rows. Three columns contain pipe delimited strings. I also discovered nan's in these columns where there should be strings. The original_title column contains a lot of garbled text and I decided to leave it because it has no effect on my analysis. The revenue_adj column is float64 type data."
   ]
  },
  {
   "cell_type": "code",
   "execution_count": 4,
   "metadata": {
    "scrolled": true
   },
   "outputs": [
    {
     "data": {
      "text/html": [
       "<div>\n",
       "<style scoped>\n",
       "    .dataframe tbody tr th:only-of-type {\n",
       "        vertical-align: middle;\n",
       "    }\n",
       "\n",
       "    .dataframe tbody tr th {\n",
       "        vertical-align: top;\n",
       "    }\n",
       "\n",
       "    .dataframe thead th {\n",
       "        text-align: right;\n",
       "    }\n",
       "</style>\n",
       "<table border=\"1\" class=\"dataframe\">\n",
       "  <thead>\n",
       "    <tr style=\"text-align: right;\">\n",
       "      <th></th>\n",
       "      <th>id</th>\n",
       "      <th>imdb_id</th>\n",
       "      <th>popularity</th>\n",
       "      <th>budget</th>\n",
       "      <th>revenue</th>\n",
       "      <th>original_title</th>\n",
       "      <th>cast</th>\n",
       "      <th>homepage</th>\n",
       "      <th>director</th>\n",
       "      <th>tagline</th>\n",
       "      <th>...</th>\n",
       "      <th>overview</th>\n",
       "      <th>runtime</th>\n",
       "      <th>genres</th>\n",
       "      <th>production_companies</th>\n",
       "      <th>release_date</th>\n",
       "      <th>vote_count</th>\n",
       "      <th>vote_average</th>\n",
       "      <th>release_year</th>\n",
       "      <th>budget_adj</th>\n",
       "      <th>revenue_adj</th>\n",
       "    </tr>\n",
       "  </thead>\n",
       "  <tbody>\n",
       "    <tr>\n",
       "      <th>0</th>\n",
       "      <td>135397</td>\n",
       "      <td>tt0369610</td>\n",
       "      <td>32.985763</td>\n",
       "      <td>150000000</td>\n",
       "      <td>1513528810</td>\n",
       "      <td>Jurassic World</td>\n",
       "      <td>Chris Pratt|Bryce Dallas Howard|Irrfan Khan|Vi...</td>\n",
       "      <td>http://www.jurassicworld.com/</td>\n",
       "      <td>Colin Trevorrow</td>\n",
       "      <td>The park is open.</td>\n",
       "      <td>...</td>\n",
       "      <td>Twenty-two years after the events of Jurassic ...</td>\n",
       "      <td>124</td>\n",
       "      <td>Action|Adventure|Science Fiction|Thriller</td>\n",
       "      <td>Universal Studios|Amblin Entertainment|Legenda...</td>\n",
       "      <td>6/9/15</td>\n",
       "      <td>5562</td>\n",
       "      <td>6.5</td>\n",
       "      <td>2015</td>\n",
       "      <td>1.379999e+08</td>\n",
       "      <td>1.392446e+09</td>\n",
       "    </tr>\n",
       "    <tr>\n",
       "      <th>1</th>\n",
       "      <td>76341</td>\n",
       "      <td>tt1392190</td>\n",
       "      <td>28.419936</td>\n",
       "      <td>150000000</td>\n",
       "      <td>378436354</td>\n",
       "      <td>Mad Max: Fury Road</td>\n",
       "      <td>Tom Hardy|Charlize Theron|Hugh Keays-Byrne|Nic...</td>\n",
       "      <td>http://www.madmaxmovie.com/</td>\n",
       "      <td>George Miller</td>\n",
       "      <td>What a Lovely Day.</td>\n",
       "      <td>...</td>\n",
       "      <td>An apocalyptic story set in the furthest reach...</td>\n",
       "      <td>120</td>\n",
       "      <td>Action|Adventure|Science Fiction|Thriller</td>\n",
       "      <td>Village Roadshow Pictures|Kennedy Miller Produ...</td>\n",
       "      <td>5/13/15</td>\n",
       "      <td>6185</td>\n",
       "      <td>7.1</td>\n",
       "      <td>2015</td>\n",
       "      <td>1.379999e+08</td>\n",
       "      <td>3.481613e+08</td>\n",
       "    </tr>\n",
       "    <tr>\n",
       "      <th>2</th>\n",
       "      <td>262500</td>\n",
       "      <td>tt2908446</td>\n",
       "      <td>13.112507</td>\n",
       "      <td>110000000</td>\n",
       "      <td>295238201</td>\n",
       "      <td>Insurgent</td>\n",
       "      <td>Shailene Woodley|Theo James|Kate Winslet|Ansel...</td>\n",
       "      <td>http://www.thedivergentseries.movie/#insurgent</td>\n",
       "      <td>Robert Schwentke</td>\n",
       "      <td>One Choice Can Destroy You</td>\n",
       "      <td>...</td>\n",
       "      <td>Beatrice Prior must confront her inner demons ...</td>\n",
       "      <td>119</td>\n",
       "      <td>Adventure|Science Fiction|Thriller</td>\n",
       "      <td>Summit Entertainment|Mandeville Films|Red Wago...</td>\n",
       "      <td>3/18/15</td>\n",
       "      <td>2480</td>\n",
       "      <td>6.3</td>\n",
       "      <td>2015</td>\n",
       "      <td>1.012000e+08</td>\n",
       "      <td>2.716190e+08</td>\n",
       "    </tr>\n",
       "    <tr>\n",
       "      <th>3</th>\n",
       "      <td>140607</td>\n",
       "      <td>tt2488496</td>\n",
       "      <td>11.173104</td>\n",
       "      <td>200000000</td>\n",
       "      <td>2068178225</td>\n",
       "      <td>Star Wars: The Force Awakens</td>\n",
       "      <td>Harrison Ford|Mark Hamill|Carrie Fisher|Adam D...</td>\n",
       "      <td>http://www.starwars.com/films/star-wars-episod...</td>\n",
       "      <td>J.J. Abrams</td>\n",
       "      <td>Every generation has a story.</td>\n",
       "      <td>...</td>\n",
       "      <td>Thirty years after defeating the Galactic Empi...</td>\n",
       "      <td>136</td>\n",
       "      <td>Action|Adventure|Science Fiction|Fantasy</td>\n",
       "      <td>Lucasfilm|Truenorth Productions|Bad Robot</td>\n",
       "      <td>12/15/15</td>\n",
       "      <td>5292</td>\n",
       "      <td>7.5</td>\n",
       "      <td>2015</td>\n",
       "      <td>1.839999e+08</td>\n",
       "      <td>1.902723e+09</td>\n",
       "    </tr>\n",
       "    <tr>\n",
       "      <th>4</th>\n",
       "      <td>168259</td>\n",
       "      <td>tt2820852</td>\n",
       "      <td>9.335014</td>\n",
       "      <td>190000000</td>\n",
       "      <td>1506249360</td>\n",
       "      <td>Furious 7</td>\n",
       "      <td>Vin Diesel|Paul Walker|Jason Statham|Michelle ...</td>\n",
       "      <td>http://www.furious7.com/</td>\n",
       "      <td>James Wan</td>\n",
       "      <td>Vengeance Hits Home</td>\n",
       "      <td>...</td>\n",
       "      <td>Deckard Shaw seeks revenge against Dominic Tor...</td>\n",
       "      <td>137</td>\n",
       "      <td>Action|Crime|Thriller</td>\n",
       "      <td>Universal Pictures|Original Film|Media Rights ...</td>\n",
       "      <td>4/1/15</td>\n",
       "      <td>2947</td>\n",
       "      <td>7.3</td>\n",
       "      <td>2015</td>\n",
       "      <td>1.747999e+08</td>\n",
       "      <td>1.385749e+09</td>\n",
       "    </tr>\n",
       "  </tbody>\n",
       "</table>\n",
       "<p>5 rows × 21 columns</p>\n",
       "</div>"
      ],
      "text/plain": [
       "       id    imdb_id  popularity     budget     revenue  \\\n",
       "0  135397  tt0369610   32.985763  150000000  1513528810   \n",
       "1   76341  tt1392190   28.419936  150000000   378436354   \n",
       "2  262500  tt2908446   13.112507  110000000   295238201   \n",
       "3  140607  tt2488496   11.173104  200000000  2068178225   \n",
       "4  168259  tt2820852    9.335014  190000000  1506249360   \n",
       "\n",
       "                 original_title  \\\n",
       "0                Jurassic World   \n",
       "1            Mad Max: Fury Road   \n",
       "2                     Insurgent   \n",
       "3  Star Wars: The Force Awakens   \n",
       "4                     Furious 7   \n",
       "\n",
       "                                                cast  \\\n",
       "0  Chris Pratt|Bryce Dallas Howard|Irrfan Khan|Vi...   \n",
       "1  Tom Hardy|Charlize Theron|Hugh Keays-Byrne|Nic...   \n",
       "2  Shailene Woodley|Theo James|Kate Winslet|Ansel...   \n",
       "3  Harrison Ford|Mark Hamill|Carrie Fisher|Adam D...   \n",
       "4  Vin Diesel|Paul Walker|Jason Statham|Michelle ...   \n",
       "\n",
       "                                            homepage          director  \\\n",
       "0                      http://www.jurassicworld.com/   Colin Trevorrow   \n",
       "1                        http://www.madmaxmovie.com/     George Miller   \n",
       "2     http://www.thedivergentseries.movie/#insurgent  Robert Schwentke   \n",
       "3  http://www.starwars.com/films/star-wars-episod...       J.J. Abrams   \n",
       "4                           http://www.furious7.com/         James Wan   \n",
       "\n",
       "                         tagline  ...  \\\n",
       "0              The park is open.  ...   \n",
       "1             What a Lovely Day.  ...   \n",
       "2     One Choice Can Destroy You  ...   \n",
       "3  Every generation has a story.  ...   \n",
       "4            Vengeance Hits Home  ...   \n",
       "\n",
       "                                            overview runtime  \\\n",
       "0  Twenty-two years after the events of Jurassic ...     124   \n",
       "1  An apocalyptic story set in the furthest reach...     120   \n",
       "2  Beatrice Prior must confront her inner demons ...     119   \n",
       "3  Thirty years after defeating the Galactic Empi...     136   \n",
       "4  Deckard Shaw seeks revenge against Dominic Tor...     137   \n",
       "\n",
       "                                      genres  \\\n",
       "0  Action|Adventure|Science Fiction|Thriller   \n",
       "1  Action|Adventure|Science Fiction|Thriller   \n",
       "2         Adventure|Science Fiction|Thriller   \n",
       "3   Action|Adventure|Science Fiction|Fantasy   \n",
       "4                      Action|Crime|Thriller   \n",
       "\n",
       "                                production_companies release_date vote_count  \\\n",
       "0  Universal Studios|Amblin Entertainment|Legenda...       6/9/15       5562   \n",
       "1  Village Roadshow Pictures|Kennedy Miller Produ...      5/13/15       6185   \n",
       "2  Summit Entertainment|Mandeville Films|Red Wago...      3/18/15       2480   \n",
       "3          Lucasfilm|Truenorth Productions|Bad Robot     12/15/15       5292   \n",
       "4  Universal Pictures|Original Film|Media Rights ...       4/1/15       2947   \n",
       "\n",
       "   vote_average  release_year    budget_adj   revenue_adj  \n",
       "0           6.5          2015  1.379999e+08  1.392446e+09  \n",
       "1           7.1          2015  1.379999e+08  3.481613e+08  \n",
       "2           6.3          2015  1.012000e+08  2.716190e+08  \n",
       "3           7.5          2015  1.839999e+08  1.902723e+09  \n",
       "4           7.3          2015  1.747999e+08  1.385749e+09  \n",
       "\n",
       "[5 rows x 21 columns]"
      ]
     },
     "execution_count": 4,
     "metadata": {},
     "output_type": "execute_result"
    }
   ],
   "source": [
    "# Loads original data and gives a sample\n",
    "\n",
    "filename = \"tmdb-movies.csv\"\n",
    "original_df = pd.read_csv(filename)\n",
    "original_df.head(5)\n"
   ]
  },
  {
   "cell_type": "code",
   "execution_count": 5,
   "metadata": {},
   "outputs": [],
   "source": [
    "movie_df = original_df.copy() # make copy of original data to work with"
   ]
  },
  {
   "cell_type": "code",
   "execution_count": 6,
   "metadata": {},
   "outputs": [
    {
     "name": "stdout",
     "output_type": "stream",
     "text": [
      "nan\n"
     ]
    }
   ],
   "source": [
    "# found nan in cast column which should be all strings. This could cause problems\n",
    "\n",
    "movie_df['cast'].dtype # returns type 'O' instead of string indicating mixed types\n",
    "\n",
    "for m in movie_df['cast']: # returns nan if found. I used this code on other columns too\n",
    "    if not isinstance(m, str):\n",
    "        print m\n",
    "        break\n"
   ]
  },
  {
   "cell_type": "code",
   "execution_count": 7,
   "metadata": {},
   "outputs": [],
   "source": [
    "#no nan's in this column\n",
    "\n",
    "movie_df['release_date'].dtype\n",
    "\n",
    "for m in movie_df['release_date']:\n",
    "    if not isinstance(m, str):\n",
    "        print m\n",
    "        break\n"
   ]
  },
  {
   "cell_type": "code",
   "execution_count": 8,
   "metadata": {},
   "outputs": [
    {
     "data": {
      "text/plain": [
       "dtype('float64')"
      ]
     },
     "execution_count": 8,
     "metadata": {},
     "output_type": "execute_result"
    }
   ],
   "source": [
    "#  what type of data is revenue_adj?\n",
    "\n",
    "movie_df['revenue_adj'].dtype"
   ]
  },
  {
   "cell_type": "markdown",
   "metadata": {},
   "source": [
    "\n",
    "\n",
    "### Data Cleaning\n",
    "\n",
    "> I needed to convert the cast column from pipe delimited string to a list, so that I could more easily sort data by individual cast members. I made a function for converting the column. I got an error at first because of the nan's in the column. I made a second fuction to convert nans to empty strings. Now my first function works. I decided to do the same with the other pipe delimited string type columns. I also added a month column to the dataframe to make it easier to sort it by month."
   ]
  },
  {
   "cell_type": "code",
   "execution_count": 9,
   "metadata": {},
   "outputs": [],
   "source": [
    "# cleanup work\n",
    "\n",
    "def pipes_to_series(pdss): ## converts pipe delimited data to lists\n",
    "    \n",
    "    new_list = pdss.split(\"|\")\n",
    "    return new_list\n",
    "\n",
    "def convert_nan_to_str(pdss): ## converts nan's in column to empty strings\n",
    "    if isinstance(pdss, float):\n",
    "        pdss = ''\n",
    "    return pdss\n",
    "\n",
    "        \n",
    "movie_df['cast'] = movie_df['cast'].apply(convert_nan_to_str)    \n",
    "movie_df['cast'] = movie_df['cast'].apply(pipes_to_series)\n",
    "\n",
    "movie_df['genres'] = movie_df['genres'].apply(convert_nan_to_str)\n",
    "movie_df['genres'] = movie_df['genres'].apply(pipes_to_series)\n",
    "\n",
    "movie_df['production_companies'] = movie_df['production_companies'].apply(convert_nan_to_str)\n",
    "movie_df['production_companies'] = movie_df['production_companies'].apply(pipes_to_series)\n",
    "\n",
    "movie_df['imdb_id'] = movie_df['imdb_id'].apply(convert_nan_to_str) \n"
   ]
  },
  {
   "cell_type": "code",
   "execution_count": 10,
   "metadata": {},
   "outputs": [],
   "source": [
    "# make month column\n",
    "\n",
    "def extract_month(ss):\n",
    "    trio = ss.split('/')\n",
    "    return int(trio[0])\n",
    "\n",
    "movie_df['month'] = movie_df['release_date'].apply(extract_month)\n"
   ]
  },
  {
   "cell_type": "markdown",
   "metadata": {},
   "source": [
    "<a id='eda'></a>\n",
    "## Exploratory Data Analysis\n",
    "\n",
    "I decided to look at various factors that may increase the revenue of a movie. I studied 4 different variables: High budget, the month released, the director, and the cast members.\n",
    "\n",
    "### Does a high budget usually result in high revenue?"
   ]
  },
  {
   "cell_type": "code",
   "execution_count": 42,
   "metadata": {},
   "outputs": [],
   "source": [
    "# make a new dataframe with the top 50 movies in budget\n",
    "\n",
    "high_budget = movie_df.sort_values(by=('budget_adj'), ascending = False)[:50]\n"
   ]
  },
  {
   "cell_type": "code",
   "execution_count": 43,
   "metadata": {},
   "outputs": [],
   "source": [
    "# normalize the budget_adj and revenue_adj columns\n",
    "\n",
    "high_budget['budget_adj'] = (high_budget['budget_adj'] - high_budget['budget_adj'].mean()) / high_budget['budget_adj'].std()\n",
    "high_budget['revenue_adj'] = (high_budget['revenue_adj'] - high_budget['revenue_adj'].mean()) / high_budget['revenue_adj'].std()\n"
   ]
  },
  {
   "cell_type": "code",
   "execution_count": 45,
   "metadata": {},
   "outputs": [
    {
     "data": {
      "text/plain": [
       "[<matplotlib.lines.Line2D at 0xa8944c8>]"
      ]
     },
     "execution_count": 45,
     "metadata": {},
     "output_type": "execute_result"
    },
    {
     "data": {
      "image/png": "[encoded data removed]",
      "text/plain": [
       "<Figure size 432x288 with 1 Axes>"
      ]
     },
     "metadata": {
      "needs_background": "light"
     },
     "output_type": "display_data"
    }
   ],
   "source": [
    "#Make scatter plot of 50 highest budget movies vs their revenue\n",
    "\n",
    "plt.ylabel('Revenue')\n",
    "plt.xlabel('Budget')\n",
    "plt.title('Scatter Diagram - Budget vs Revenue')\n",
    "plt.scatter( high_budget['budget_adj'],high_budget['revenue_adj'] )\n",
    "plt.plot([-1,4],[-1,4], 'black', linewidth=1)"
   ]
  },
  {
   "cell_type": "markdown",
   "metadata": {},
   "source": [
    "> It doesn't look like there is a strong correlation between high budgets and revenue."
   ]
  },
  {
   "cell_type": "markdown",
   "metadata": {},
   "source": [
    "### What months are the highest revenue movies released?"
   ]
  },
  {
   "cell_type": "code",
   "execution_count": 46,
   "metadata": {},
   "outputs": [
    {
     "name": "stdout",
     "output_type": "stream",
     "text": [
      "month\n",
      "6     9.759761e+07\n",
      "12    8.476453e+07\n",
      "5     7.624643e+07\n",
      "7     7.329208e+07\n",
      "11    7.186496e+07\n",
      "3     4.944458e+07\n",
      "4     3.971626e+07\n",
      "8     3.546830e+07\n",
      "2     3.393971e+07\n",
      "10    3.334361e+07\n",
      "9     2.325910e+07\n",
      "1     1.895000e+07\n",
      "Name: revenue_adj, dtype: float64\n"
     ]
    }
   ],
   "source": [
    "\n",
    "# Makes is list of the mean adjusted revenue by month.\n",
    "\n",
    "print movie_df.groupby('month')['revenue_adj'].mean().sort_values(ascending = False)\n"
   ]
  },
  {
   "cell_type": "code",
   "execution_count": 47,
   "metadata": {},
   "outputs": [
    {
     "data": {
      "text/plain": [
       "[<matplotlib.lines.Line2D at 0xa8cb508>]"
      ]
     },
     "execution_count": 47,
     "metadata": {},
     "output_type": "execute_result"
    },
    {
     "data": {
      "image/png": "[encoded data removed]",
      "text/plain": [
       "<Figure size 432x288 with 1 Axes>"
      ]
     },
     "metadata": {
      "needs_background": "light"
     },
     "output_type": "display_data"
    }
   ],
   "source": [
    "# makes a chart of mean revenue by month\n",
    "\n",
    "plt.ylabel('Millions of dollars')\n",
    "plt.xlabel('Month')\n",
    "plt.title('Movie Releases by Month')\n",
    "plt.plot(movie_df.groupby('month')['revenue_adj'].mean()/10**6)"
   ]
  },
  {
   "cell_type": "markdown",
   "metadata": {},
   "source": [
    "> It looks like June and December could be the best months to release a movie."
   ]
  },
  {
   "cell_type": "markdown",
   "metadata": {},
   "source": [
    "### Which directors have the highest revenue?"
   ]
  },
  {
   "cell_type": "code",
   "execution_count": 48,
   "metadata": {},
   "outputs": [
    {
     "data": {
      "text/plain": [
       "director\n",
       "Steven Spielberg    1.520245e+10\n",
       "James Cameron       7.327221e+09\n",
       "Peter Jackson       7.019848e+09\n",
       "George Lucas        6.313919e+09\n",
       "Robert Zemeckis     5.655648e+09\n",
       "Name: revenue_adj, dtype: float64"
      ]
     },
     "execution_count": 48,
     "metadata": {},
     "output_type": "execute_result"
    }
   ],
   "source": [
    "# Gives a list oof top five directors by total adjusted revenue\n",
    "movie_df.groupby('director')['revenue_adj'].sum().sort_values(ascending = False).head(5)\n"
   ]
  },
  {
   "cell_type": "code",
   "execution_count": 49,
   "metadata": {},
   "outputs": [
    {
     "data": {
      "text/plain": [
       "director\n",
       "Woody Allen         45\n",
       "Clint Eastwood      34\n",
       "Steven Spielberg    29\n",
       "Martin Scorsese     29\n",
       "Ridley Scott        23\n",
       "Name: revenue_adj, dtype: int64"
      ]
     },
     "execution_count": 49,
     "metadata": {},
     "output_type": "execute_result"
    }
   ],
   "source": [
    "# Who directed the most movies\n",
    "\n",
    "movie_df.groupby('director')['revenue_adj'].count().sort_values(ascending = False).head(5)"
   ]
  },
  {
   "cell_type": "markdown",
   "metadata": {},
   "source": [
    "> Steven Spielberg could be the best director for our movie."
   ]
  },
  {
   "cell_type": "markdown",
   "metadata": {},
   "source": [
    "### Which cast members have the highest revenue?"
   ]
  },
  {
   "cell_type": "code",
   "execution_count": 50,
   "metadata": {},
   "outputs": [],
   "source": [
    "# This one took a lot more effort because each movie has a list of cast members. I had to compile a new data frame\n",
    "# and organize it by cast member. It must include a list of movie adjusted revenue for each cast member.\n",
    "\n",
    "\n",
    "# Returns cast and revenue adjusted columns\n",
    "def return_cast(ss):\n",
    "    return ss['cast'], ss['revenue_adj']\n",
    "\n",
    "\n",
    "# makes list of cast members and the adjusted revenue all of their movies made\n",
    "cast_dict = dict()   \n",
    "cast_list =  movie_df.apply(return_cast, axis = 1).to_list()\n",
    "for i in cast_list:\n",
    "    for p in i[0]:\n",
    "        if  p not in cast_dict:\n",
    "            cast_dict[p] = [i[1]]\n",
    "        else:\n",
    "            cast_dict[p].append(i[1])\n",
    "            "
   ]
  },
  {
   "cell_type": "code",
   "execution_count": 51,
   "metadata": {},
   "outputs": [
    {
     "data": {
      "text/html": [
       "<div>\n",
       "<style scoped>\n",
       "    .dataframe tbody tr th:only-of-type {\n",
       "        vertical-align: middle;\n",
       "    }\n",
       "\n",
       "    .dataframe tbody tr th {\n",
       "        vertical-align: top;\n",
       "    }\n",
       "\n",
       "    .dataframe thead th {\n",
       "        text-align: right;\n",
       "    }\n",
       "</style>\n",
       "<table border=\"1\" class=\"dataframe\">\n",
       "  <thead>\n",
       "    <tr style=\"text-align: right;\">\n",
       "      <th></th>\n",
       "      <th>cast</th>\n",
       "      <th>adjusted_revenue</th>\n",
       "    </tr>\n",
       "  </thead>\n",
       "  <tbody>\n",
       "    <tr>\n",
       "      <th>0</th>\n",
       "      <td></td>\n",
       "      <td>[0.0, 0.0, 0.0, 0.0, 0.0, 0.0, 0.0, 0.0, 13849...</td>\n",
       "    </tr>\n",
       "    <tr>\n",
       "      <th>1</th>\n",
       "      <td>Takumi Yamazaki</td>\n",
       "      <td>[0.0]</td>\n",
       "    </tr>\n",
       "    <tr>\n",
       "      <th>2</th>\n",
       "      <td>Alex Zahara</td>\n",
       "      <td>[0.0, 0.0]</td>\n",
       "    </tr>\n",
       "    <tr>\n",
       "      <th>3</th>\n",
       "      <td>Lilach Mendelovich</td>\n",
       "      <td>[0.0]</td>\n",
       "    </tr>\n",
       "    <tr>\n",
       "      <th>4</th>\n",
       "      <td>Vince Gilligan</td>\n",
       "      <td>[0.0]</td>\n",
       "    </tr>\n",
       "  </tbody>\n",
       "</table>\n",
       "</div>"
      ],
      "text/plain": [
       "                 cast                                   adjusted_revenue\n",
       "0                      [0.0, 0.0, 0.0, 0.0, 0.0, 0.0, 0.0, 0.0, 13849...\n",
       "1     Takumi Yamazaki                                              [0.0]\n",
       "2         Alex Zahara                                         [0.0, 0.0]\n",
       "3  Lilach Mendelovich                                              [0.0]\n",
       "4      Vince Gilligan                                              [0.0]"
      ]
     },
     "execution_count": 51,
     "metadata": {},
     "output_type": "execute_result"
    }
   ],
   "source": [
    "# construct new dataframe for cast information. Sorry it runs a little long\n",
    "\n",
    "cast_df = pd.DataFrame(columns = ('cast', 'adjusted_revenue'))\n",
    "for i in cast_dict:\n",
    "    temp_series = pd.Series([i, cast_dict[i]], index = ['cast', 'adjusted_revenue'])\n",
    "    cast_df = cast_df.append(temp_series,  ignore_index=True)\n",
    "cast_df.head()       "
   ]
  },
  {
   "cell_type": "code",
   "execution_count": 52,
   "metadata": {},
   "outputs": [
    {
     "data": {
      "text/html": [
       "<div>\n",
       "<style scoped>\n",
       "    .dataframe tbody tr th:only-of-type {\n",
       "        vertical-align: middle;\n",
       "    }\n",
       "\n",
       "    .dataframe tbody tr th {\n",
       "        vertical-align: top;\n",
       "    }\n",
       "\n",
       "    .dataframe thead th {\n",
       "        text-align: right;\n",
       "    }\n",
       "</style>\n",
       "<table border=\"1\" class=\"dataframe\">\n",
       "  <thead>\n",
       "    <tr style=\"text-align: right;\">\n",
       "      <th></th>\n",
       "      <th>cast</th>\n",
       "      <th>adjusted_revenue</th>\n",
       "      <th>total_adj_revenue</th>\n",
       "    </tr>\n",
       "  </thead>\n",
       "  <tbody>\n",
       "    <tr>\n",
       "      <th>0</th>\n",
       "      <td></td>\n",
       "      <td>[0.0, 0.0, 0.0, 0.0, 0.0, 0.0, 0.0, 0.0, 13849...</td>\n",
       "      <td>3.421537e+07</td>\n",
       "    </tr>\n",
       "    <tr>\n",
       "      <th>1</th>\n",
       "      <td>Takumi Yamazaki</td>\n",
       "      <td>[0.0]</td>\n",
       "      <td>0.000000e+00</td>\n",
       "    </tr>\n",
       "    <tr>\n",
       "      <th>2</th>\n",
       "      <td>Alex Zahara</td>\n",
       "      <td>[0.0, 0.0]</td>\n",
       "      <td>0.000000e+00</td>\n",
       "    </tr>\n",
       "    <tr>\n",
       "      <th>3</th>\n",
       "      <td>Lilach Mendelovich</td>\n",
       "      <td>[0.0]</td>\n",
       "      <td>0.000000e+00</td>\n",
       "    </tr>\n",
       "    <tr>\n",
       "      <th>4</th>\n",
       "      <td>Vince Gilligan</td>\n",
       "      <td>[0.0]</td>\n",
       "      <td>0.000000e+00</td>\n",
       "    </tr>\n",
       "  </tbody>\n",
       "</table>\n",
       "</div>"
      ],
      "text/plain": [
       "                 cast                                   adjusted_revenue  \\\n",
       "0                      [0.0, 0.0, 0.0, 0.0, 0.0, 0.0, 0.0, 0.0, 13849...   \n",
       "1     Takumi Yamazaki                                              [0.0]   \n",
       "2         Alex Zahara                                         [0.0, 0.0]   \n",
       "3  Lilach Mendelovich                                              [0.0]   \n",
       "4      Vince Gilligan                                              [0.0]   \n",
       "\n",
       "   total_adj_revenue  \n",
       "0       3.421537e+07  \n",
       "1       0.000000e+00  \n",
       "2       0.000000e+00  \n",
       "3       0.000000e+00  \n",
       "4       0.000000e+00  "
      ]
     },
     "execution_count": 52,
     "metadata": {},
     "output_type": "execute_result"
    }
   ],
   "source": [
    "# adds column for total adjusted revenue\n",
    "\n",
    "list_of_sums = cast_df['adjusted_revenue'].apply(sum)\n",
    "cast_df['total_adj_revenue'] = list_of_sums\n",
    "cast_df.head()"
   ]
  },
  {
   "cell_type": "code",
   "execution_count": 53,
   "metadata": {},
   "outputs": [
    {
     "data": {
      "text/html": [
       "<div>\n",
       "<style scoped>\n",
       "    .dataframe tbody tr th:only-of-type {\n",
       "        vertical-align: middle;\n",
       "    }\n",
       "\n",
       "    .dataframe tbody tr th {\n",
       "        vertical-align: top;\n",
       "    }\n",
       "\n",
       "    .dataframe thead th {\n",
       "        text-align: right;\n",
       "    }\n",
       "</style>\n",
       "<table border=\"1\" class=\"dataframe\">\n",
       "  <thead>\n",
       "    <tr style=\"text-align: right;\">\n",
       "      <th></th>\n",
       "      <th>cast</th>\n",
       "      <th>adjusted_revenue</th>\n",
       "      <th>total_adj_revenue</th>\n",
       "    </tr>\n",
       "  </thead>\n",
       "  <tbody>\n",
       "    <tr>\n",
       "      <th>1</th>\n",
       "      <td>Takumi Yamazaki</td>\n",
       "      <td>[0.0]</td>\n",
       "      <td>0.0</td>\n",
       "    </tr>\n",
       "    <tr>\n",
       "      <th>2</th>\n",
       "      <td>Alex Zahara</td>\n",
       "      <td>[0.0, 0.0]</td>\n",
       "      <td>0.0</td>\n",
       "    </tr>\n",
       "    <tr>\n",
       "      <th>3</th>\n",
       "      <td>Lilach Mendelovich</td>\n",
       "      <td>[0.0]</td>\n",
       "      <td>0.0</td>\n",
       "    </tr>\n",
       "    <tr>\n",
       "      <th>4</th>\n",
       "      <td>Vince Gilligan</td>\n",
       "      <td>[0.0]</td>\n",
       "      <td>0.0</td>\n",
       "    </tr>\n",
       "    <tr>\n",
       "      <th>5</th>\n",
       "      <td>Flavia Roberto</td>\n",
       "      <td>[0.0]</td>\n",
       "      <td>0.0</td>\n",
       "    </tr>\n",
       "  </tbody>\n",
       "</table>\n",
       "</div>"
      ],
      "text/plain": [
       "                 cast adjusted_revenue  total_adj_revenue\n",
       "1     Takumi Yamazaki            [0.0]                0.0\n",
       "2         Alex Zahara       [0.0, 0.0]                0.0\n",
       "3  Lilach Mendelovich            [0.0]                0.0\n",
       "4      Vince Gilligan            [0.0]                0.0\n",
       "5      Flavia Roberto            [0.0]                0.0"
      ]
     },
     "execution_count": 53,
     "metadata": {},
     "output_type": "execute_result"
    }
   ],
   "source": [
    "# remove the first row without a cast name\n",
    "cast_df = cast_df.drop(0, axis = 0)\n",
    "cast_df.head()"
   ]
  },
  {
   "cell_type": "code",
   "execution_count": 54,
   "metadata": {},
   "outputs": [],
   "source": [
    "#make new DataFrame for top ten list.\n",
    "\n",
    "top_ten_df = cast_df.sort_values(by=['total_adj_revenue'], ascending = False)[:10]\n",
    "\n",
    "del top_ten_df['adjusted_revenue'] # column not needed so I deleted it"
   ]
  },
  {
   "cell_type": "code",
   "execution_count": 55,
   "metadata": {},
   "outputs": [
    {
     "name": "stdout",
     "output_type": "stream",
     "text": [
      "                   cast  total_adj_revenue\n",
      "8427      Harrison Ford       1.468348e+10\n",
      "2554         Tom Cruise       1.121280e+10\n",
      "16829         Tom Hanks       1.067239e+10\n",
      "15630       Emma Watson       8.806337e+09\n",
      "8693       Ian McKellen       8.671323e+09\n",
      "6286       Eddie Murphy       8.572390e+09\n",
      "4976        Johnny Depp       8.564524e+09\n",
      "16431  Daniel Radcliffe       8.515082e+09\n",
      "11537      Rupert Grint       8.358390e+09\n",
      "17573      Bruce Willis       8.253051e+09\n"
     ]
    }
   ],
   "source": [
    "print top_ten_df # Here's our top ten list"
   ]
  },
  {
   "cell_type": "code",
   "execution_count": 56,
   "metadata": {},
   "outputs": [
    {
     "data": {
      "text/html": [
       "<div>\n",
       "<style scoped>\n",
       "    .dataframe tbody tr th:only-of-type {\n",
       "        vertical-align: middle;\n",
       "    }\n",
       "\n",
       "    .dataframe tbody tr th {\n",
       "        vertical-align: top;\n",
       "    }\n",
       "\n",
       "    .dataframe thead th {\n",
       "        text-align: right;\n",
       "    }\n",
       "</style>\n",
       "<table border=\"1\" class=\"dataframe\">\n",
       "  <thead>\n",
       "    <tr style=\"text-align: right;\">\n",
       "      <th></th>\n",
       "      <th>cast</th>\n",
       "      <th>adjusted_revenue</th>\n",
       "      <th>total_adj_revenue</th>\n",
       "      <th>movie_count</th>\n",
       "    </tr>\n",
       "  </thead>\n",
       "  <tbody>\n",
       "    <tr>\n",
       "      <th>4740</th>\n",
       "      <td>Robert De Niro</td>\n",
       "      <td>[178999419.48, 93043293.341, 46125.099705, 0.0...</td>\n",
       "      <td>6.614369e+09</td>\n",
       "      <td>72</td>\n",
       "    </tr>\n",
       "    <tr>\n",
       "      <th>14630</th>\n",
       "      <td>Samuel L. Jackson</td>\n",
       "      <td>[143299244.588, 371497801.661, 5588.99754084, ...</td>\n",
       "      <td>7.977077e+09</td>\n",
       "      <td>71</td>\n",
       "    </tr>\n",
       "    <tr>\n",
       "      <th>17573</th>\n",
       "      <td>Bruce Willis</td>\n",
       "      <td>[0.0, 15432.9932095, 2779009.65724, 245550715....</td>\n",
       "      <td>8.253051e+09</td>\n",
       "      <td>62</td>\n",
       "    </tr>\n",
       "    <tr>\n",
       "      <th>9230</th>\n",
       "      <td>Nicolas Cage</td>\n",
       "      <td>[0.0, 0.0, 18129765.1494, 0.0, 0.0, 0.0, 21788...</td>\n",
       "      <td>5.720664e+09</td>\n",
       "      <td>61</td>\n",
       "    </tr>\n",
       "    <tr>\n",
       "      <th>18433</th>\n",
       "      <td>Michael Caine</td>\n",
       "      <td>[371497801.661, 129164861.167, 572690645.123, ...</td>\n",
       "      <td>5.722743e+09</td>\n",
       "      <td>53</td>\n",
       "    </tr>\n",
       "    <tr>\n",
       "      <th>10062</th>\n",
       "      <td>Robin Williams</td>\n",
       "      <td>[0.0, 321851579.072, 0.0, 0.0, 116195.636055, ...</td>\n",
       "      <td>7.555305e+09</td>\n",
       "      <td>51</td>\n",
       "    </tr>\n",
       "    <tr>\n",
       "      <th>12062</th>\n",
       "      <td>John Cusack</td>\n",
       "      <td>[0.0, 245550715.734, 52109.8051063, 26381683.5...</td>\n",
       "      <td>2.406061e+09</td>\n",
       "      <td>50</td>\n",
       "    </tr>\n",
       "    <tr>\n",
       "      <th>7922</th>\n",
       "      <td>John Goodman</td>\n",
       "      <td>[22079990.2848, 142754407.651, 36080177.2916, ...</td>\n",
       "      <td>4.476072e+09</td>\n",
       "      <td>49</td>\n",
       "    </tr>\n",
       "    <tr>\n",
       "      <th>11678</th>\n",
       "      <td>Morgan Freeman</td>\n",
       "      <td>[0.0, 3352102.24508, 426796807.314, 94908538.4...</td>\n",
       "      <td>5.081434e+09</td>\n",
       "      <td>49</td>\n",
       "    </tr>\n",
       "    <tr>\n",
       "      <th>17827</th>\n",
       "      <td>Susan Sarandon</td>\n",
       "      <td>[145146.496136, 92593075.7901, 0.0, 95059446.2...</td>\n",
       "      <td>1.872676e+09</td>\n",
       "      <td>48</td>\n",
       "    </tr>\n",
       "    <tr>\n",
       "      <th>9749</th>\n",
       "      <td>Liam Neeson</td>\n",
       "      <td>[299709578.208, 65836683.5119, 48985095.8257, ...</td>\n",
       "      <td>6.321413e+09</td>\n",
       "      <td>48</td>\n",
       "    </tr>\n",
       "    <tr>\n",
       "      <th>2541</th>\n",
       "      <td>Alec Baldwin</td>\n",
       "      <td>[44733666.5572, 0.0, 38499379.6452, 222697050....</td>\n",
       "      <td>2.351216e+09</td>\n",
       "      <td>47</td>\n",
       "    </tr>\n",
       "    <tr>\n",
       "      <th>13638</th>\n",
       "      <td>Julianne Moore</td>\n",
       "      <td>[527467.967914, 105168898.624, 205227928.586, ...</td>\n",
       "      <td>2.926668e+09</td>\n",
       "      <td>47</td>\n",
       "    </tr>\n",
       "    <tr>\n",
       "      <th>4976</th>\n",
       "      <td>Johnny Depp</td>\n",
       "      <td>[27985062.8866, 91793583.3708, 94908538.4219, ...</td>\n",
       "      <td>8.564524e+09</td>\n",
       "      <td>46</td>\n",
       "    </tr>\n",
       "    <tr>\n",
       "      <th>16829</th>\n",
       "      <td>Tom Hanks</td>\n",
       "      <td>[149601569.335, 0.0, 362462054.214, 1063171911...</td>\n",
       "      <td>1.067239e+10</td>\n",
       "      <td>46</td>\n",
       "    </tr>\n",
       "    <tr>\n",
       "      <th>5000</th>\n",
       "      <td>Gene Hackman</td>\n",
       "      <td>[0.0, 87979050.4168, 112992977.932, 182069401....</td>\n",
       "      <td>5.289401e+09</td>\n",
       "      <td>46</td>\n",
       "    </tr>\n",
       "    <tr>\n",
       "      <th>354</th>\n",
       "      <td>Christopher Walken</td>\n",
       "      <td>[0.0, 62032730.9705, 0.0, 0.0, 52706420.9435, ...</td>\n",
       "      <td>2.930960e+09</td>\n",
       "      <td>46</td>\n",
       "    </tr>\n",
       "    <tr>\n",
       "      <th>1067</th>\n",
       "      <td>Sylvester Stallone</td>\n",
       "      <td>[126900665.804, 189903685.193, 0.0, 0.0, 27447...</td>\n",
       "      <td>7.038585e+09</td>\n",
       "      <td>45</td>\n",
       "    </tr>\n",
       "    <tr>\n",
       "      <th>14783</th>\n",
       "      <td>Willem Dafoe</td>\n",
       "      <td>[72526614.4654, 29064894.5489, 0.0, 52259716.3...</td>\n",
       "      <td>4.429311e+09</td>\n",
       "      <td>45</td>\n",
       "    </tr>\n",
       "    <tr>\n",
       "      <th>2335</th>\n",
       "      <td>Dennis Quaid</td>\n",
       "      <td>[2338228.65118, 307429640.188, 20983919.3255, ...</td>\n",
       "      <td>2.657856e+09</td>\n",
       "      <td>45</td>\n",
       "    </tr>\n",
       "  </tbody>\n",
       "</table>\n",
       "</div>"
      ],
      "text/plain": [
       "                     cast                                   adjusted_revenue  \\\n",
       "4740       Robert De Niro  [178999419.48, 93043293.341, 46125.099705, 0.0...   \n",
       "14630   Samuel L. Jackson  [143299244.588, 371497801.661, 5588.99754084, ...   \n",
       "17573        Bruce Willis  [0.0, 15432.9932095, 2779009.65724, 245550715....   \n",
       "9230         Nicolas Cage  [0.0, 0.0, 18129765.1494, 0.0, 0.0, 0.0, 21788...   \n",
       "18433       Michael Caine  [371497801.661, 129164861.167, 572690645.123, ...   \n",
       "10062      Robin Williams  [0.0, 321851579.072, 0.0, 0.0, 116195.636055, ...   \n",
       "12062         John Cusack  [0.0, 245550715.734, 52109.8051063, 26381683.5...   \n",
       "7922         John Goodman  [22079990.2848, 142754407.651, 36080177.2916, ...   \n",
       "11678      Morgan Freeman  [0.0, 3352102.24508, 426796807.314, 94908538.4...   \n",
       "17827      Susan Sarandon  [145146.496136, 92593075.7901, 0.0, 95059446.2...   \n",
       "9749          Liam Neeson  [299709578.208, 65836683.5119, 48985095.8257, ...   \n",
       "2541         Alec Baldwin  [44733666.5572, 0.0, 38499379.6452, 222697050....   \n",
       "13638      Julianne Moore  [527467.967914, 105168898.624, 205227928.586, ...   \n",
       "4976          Johnny Depp  [27985062.8866, 91793583.3708, 94908538.4219, ...   \n",
       "16829           Tom Hanks  [149601569.335, 0.0, 362462054.214, 1063171911...   \n",
       "5000         Gene Hackman  [0.0, 87979050.4168, 112992977.932, 182069401....   \n",
       "354    Christopher Walken  [0.0, 62032730.9705, 0.0, 0.0, 52706420.9435, ...   \n",
       "1067   Sylvester Stallone  [126900665.804, 189903685.193, 0.0, 0.0, 27447...   \n",
       "14783        Willem Dafoe  [72526614.4654, 29064894.5489, 0.0, 52259716.3...   \n",
       "2335         Dennis Quaid  [2338228.65118, 307429640.188, 20983919.3255, ...   \n",
       "\n",
       "       total_adj_revenue  movie_count  \n",
       "4740        6.614369e+09           72  \n",
       "14630       7.977077e+09           71  \n",
       "17573       8.253051e+09           62  \n",
       "9230        5.720664e+09           61  \n",
       "18433       5.722743e+09           53  \n",
       "10062       7.555305e+09           51  \n",
       "12062       2.406061e+09           50  \n",
       "7922        4.476072e+09           49  \n",
       "11678       5.081434e+09           49  \n",
       "17827       1.872676e+09           48  \n",
       "9749        6.321413e+09           48  \n",
       "2541        2.351216e+09           47  \n",
       "13638       2.926668e+09           47  \n",
       "4976        8.564524e+09           46  \n",
       "16829       1.067239e+10           46  \n",
       "5000        5.289401e+09           46  \n",
       "354         2.930960e+09           46  \n",
       "1067        7.038585e+09           45  \n",
       "14783       4.429311e+09           45  \n",
       "2335        2.657856e+09           45  "
      ]
     },
     "execution_count": 56,
     "metadata": {},
     "output_type": "execute_result"
    }
   ],
   "source": [
    "# Who has starred in the most movies?\n",
    "\n",
    "def cnt_of_movies(df): # returns count of movies starred in\n",
    "    movies = len(df['adjusted_revenue'])\n",
    "    return movies\n",
    "\n",
    "#adds movie count column\n",
    "cast_df['movie_count'] = cast_df.apply(cnt_of_movies, axis = 1)\n",
    "\n",
    "# Gives top 20 list in number of movies starred in\n",
    "cast_df.sort_values(by=('movie_count'),ascending = False).head(20)\n",
    "                                                              \n",
    "                                                               \n"
   ]
  },
  {
   "cell_type": "code",
   "execution_count": 57,
   "metadata": {},
   "outputs": [
    {
     "data": {
      "image/png": "[encoded data removed]",
      "text/plain": [
       "<Figure size 432x288 with 1 Axes>"
      ]
     },
     "metadata": {},
     "output_type": "display_data"
    }
   ],
   "source": [
    "#Plot bar graph of top cast emebers in terms of adjusted revenue\n",
    "\n",
    "def convert_to_billions(df): #converts ugly float notation to value in billions\n",
    "    newval = df / 10**9\n",
    "    return newval\n",
    "\n",
    "plt.style.use('ggplot')\n",
    "x = top_ten_df['cast']\n",
    "rev = top_ten_df['total_adj_revenue'].apply(convert_to_billions)\n",
    "x_pos = [i for i, _ in enumerate(x)]\n",
    "plt.bar(x_pos, rev , color = 'green')\n",
    "plt.title('Top Cast Members by Total Revenue')\n",
    "plt.ylabel('Total Movie Revenue in Billions of Dollars Adjusted')\n",
    "plt.xlabel('Actor / Actress')\n",
    "plt.xticks(x_pos, x, rotation = 'vertical')\n",
    "plt.show()\n"
   ]
  },
  {
   "cell_type": "markdown",
   "metadata": {},
   "source": [
    "> It looks like Harrison Ford could be the best choice to star in our movie."
   ]
  },
  {
   "cell_type": "markdown",
   "metadata": {},
   "source": [
    "<a id='conclusions'></a>\n",
    "## Conclusions\n",
    "\n",
    "> I wanted to see what factors which factors could be involved in making a blockbuster movie. I used the revenue_adj column as a dependent variable. I studied 4 independent variables: Budget, month of movie release, director, and cast member. I have not run any analytical tests here so this is mostly observational.\n",
    "\n",
    "1. It appears that there isn't a strong correlation between having a big budget and how much money a movie will make.\n",
    "\n",
    "2. I found that movies released in June have the highest adjusted revenue on average. Maybe this is the reason for the term Summer Blockbuster.\n",
    "\n",
    "3. Stephen Spielburg movies have the highest total adjusted revenue. It may be because he has directed so many movies, he is in the top 3 in movies directed in our data, but Woody Allen has directed far more.\n",
    "\n",
    "4. Movies starring Harrison Ford have the highest total adjusted revenue. Harrison is not even top 20 in total movie credits which makes him a very strong option.\n",
    "\n",
    "> According to my observations, If I were making a movie and wanted the highest revenue, I would release it in June, get Steven Spielburg to direct it, or Harrison Ford to star in it."
   ]
  },
  {
   "cell_type": "markdown",
   "metadata": {},
   "source": [
    "## Limitations\n",
    "\n",
    "My analysis was based on a limited set of data originating from the IMDB Movie database. The data is incomplete and has a few issues.\n",
    "\n",
    "1. Many movies were missing budget and revenue information resulting in many movies were left out of my work.\n",
    "2. This is not a complete list of all the movies over this time period\n",
    "3. Some of the movies on the list show no cast members which affects the accuracy of my cast variable.\n",
    "4. The original titles for some of the biggest movies had garbled text\n",
    "5. There is a lot of missing data in different columns that may give it bias towards movies with more complete data.\n"
   ]
  },
  {
   "cell_type": "markdown",
   "metadata": {},
   "source": [
    "## References\n",
    "\n",
    "> Websites I used to help with my python:\n",
    "\n",
    "https://benalexkeen.com/bar-charts-in-matplotlib/,\n",
    "\n",
    "https://matplotlib.org/3.1.0/gallery/ticks_and_spines/custom_ticker1.html,\n",
    "\n",
    "https://note.nkmk.me/en/python-pandas-drop/,\n",
    "\n",
    "https://pandas.pydata.org/pandas-docs/stable/reference/api/pandas.Series.html,\n",
    "\n",
    "https://pandas.pydata.org/pandas-docs/stable/reference/api/pandas.DataFrame.html,\n",
    "\n",
    "https://pandas.pydata.org/pandas-docs/stable/reference/api/pandas.DataFrame.apply.html\n"
   ]
  }
 ],
 "metadata": {
  "kernelspec": {
   "display_name": "Python 2",
   "language": "python",
   "name": "python2"
  },
  "language_info": {
   "codemirror_mode": {
    "name": "ipython",
    "version": 2
   },
   "file_extension": ".py",
   "mimetype": "text/x-python",
   "name": "python",
   "nbconvert_exporter": "python",
   "pygments_lexer": "ipython2",
   "version": "2.7.18"
  }
 },
 "nbformat": 4,
 "nbformat_minor": 2
}
